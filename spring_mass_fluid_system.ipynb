{
 "cells": [
  {
   "cell_type": "code",
   "execution_count": null,
   "metadata": {},
   "outputs": [],
   "source": [
    "import numpy as np\n",
    "import pandas as pd\n",
    "import matplotlib.pyplot as plt\n",
    "import torch\n",
    "import torch.nn as nn\n",
    "import torch.nn.functional as F\n",
    "import torch.optim as optim\n",
    "from sklearn.model_selection import train_test_split"
   ]
  },
  {
   "cell_type": "code",
   "execution_count": null,
   "metadata": {},
   "outputs": [],
   "source": [
    "#Used pandas to read csv file\n",
    "df = pd.read_csv('damped_harmonic_oscillator_data.csv')\n",
    "\n",
    "t = df['t'].to_numpy()\n",
    "x = df['x'].to_numpy()\n",
    "print(df)\n",
    "plt.plot(t,x)\n",
    "plt.xlabel('Time')\n",
    "plt.ylabel('Position')\n",
    "plt.title('Given data')\n",
    "plt.show()"
   ]
  },
  {
   "cell_type": "code",
   "execution_count": null,
   "metadata": {},
   "outputs": [],
   "source": [
    "T = t.reshape(-1, 1)  # time\n",
    "X = x.reshape(-1, 1)  # position\n",
    "print(T[0],X[0])\n",
    "print(T.dtype)"
   ]
  },
  {
   "cell_type": "code",
   "execution_count": null,
   "metadata": {},
   "outputs": [],
   "source": [
    "#splitting data [40 % testing and 60% training]\n",
    "#20%(test) ---- 60% (train)--- 20% (test)\n",
    "\n",
    "marker_1 = int(0.2 * len(df))\n",
    "marker_2 = int(0.8 * len(df))\n",
    "\n",
    "# TRAINING DATA\n",
    "train_data = df.iloc[marker_1:marker_2]\n",
    "T_train = train_data.iloc[:, :1].to_numpy().reshape(-1, 1)  # time\n",
    "X_train = train_data.iloc[:, 1:].to_numpy().reshape(-1, 1)  # position\n",
    "\n",
    "# TESTING DATA\n",
    "first_half_test = df.iloc[:marker_1]\n",
    "second_half_test = df.iloc[marker_2:]\n",
    "\n",
    "test_data = pd.concat([first_half_test, second_half_test])\n",
    "\n",
    "T_test = test_data.iloc[:, :1].to_numpy().reshape(-1, 1)  # time\n",
    "X_test = test_data.iloc[:, 1:].to_numpy().reshape(-1, 1)  # position\n",
    "\n",
    "# Verify shapes\n",
    "print(\"Shape of T_train:\", T_train.shape)\n",
    "print(\"Shape of X_train:\", X_train.shape)\n",
    "print(\"Shape of T_test:\", T_test.shape)\n",
    "print(\"Shape of X_test:\", X_test.shape)"
   ]
  },
  {
   "cell_type": "code",
   "execution_count": null,
   "metadata": {},
   "outputs": [],
   "source": [
    "# Convert numpy arrays to PyTorch tensors\n",
    "T_train_tensor = torch.tensor(T_train, dtype=torch.float32)\n",
    "X_train_tensor = torch.tensor(X_train, dtype=torch.float32)\n",
    "T_test_tensor = torch.tensor(T_test, dtype=torch.float32)\n",
    "X_test_tensor = torch.tensor(X_test, dtype=torch.float32)"
   ]
  },
  {
   "cell_type": "code",
   "execution_count": null,
   "metadata": {},
   "outputs": [],
   "source": [
    "torch.seed()\n",
    "\n",
    "class SGDRegression(nn.Module):\n",
    "    def __init__(self):\n",
    "        super().__init__()\n",
    "        self.fc1 = nn.Linear(1, 4)  # Input layer [ 1 input and 1 output]\n",
    "        self.fc2 = nn.Linear(4, 4)  # hidden layer 1\n",
    "        self.fc3 = nn.Linear(4, 1)  # hidden layer 2\n",
    "    \n",
    "    def forward(self, x):\n",
    "        x = F.relu(self.fc1(x)) #Activation functions\n",
    "        x = F.relu(self.fc2(x))\n",
    "        x = self.fc3(x)\n",
    "        return x\n",
    "\n",
    "model = SGDRegression()\n",
    "loss_fn = torch.nn.MSELoss() # we want to model mean square loss\n",
    "optimizer = torch.optim.SGD(model.parameters(), lr=0.01)\n",
    "EPOCHS = 50"
   ]
  },
  {
   "cell_type": "code",
   "execution_count": null,
   "metadata": {},
   "outputs": [],
   "source": [
    "for name, param in model.named_parameters():\n",
    "    print(name, param)\n"
   ]
  },
  {
   "cell_type": "code",
   "execution_count": null,
   "metadata": {},
   "outputs": [],
   "source": [
    "losses = []\n",
    "pred = 0\n",
    "for epoch in range(EPOCHS):\n",
    "    ### PASS DATA THROUGH MODEL ###\n",
    "    X_pred = model(T_train_tensor) \n",
    "    loss = loss_fn(X_pred, X_train_tensor)\n",
    "    losses.append(loss.item())\n",
    "    pred = X_pred\n",
    "    ### OPTIMIZE MODEL : The gradient loss thing ###\n",
    "    optimizer.zero_grad()\n",
    "    loss.backward()\n",
    "    optimizer.step()\n"
   ]
  },
  {
   "cell_type": "code",
   "execution_count": null,
   "metadata": {},
   "outputs": [],
   "source": [
    "plt.plot(range(EPOCHS), losses)\n",
    "plt.xlabel('Epoch')\n",
    "plt.ylabel('Loss')\n",
    "plt.title('Training Loss')\n",
    "plt.show()"
   ]
  },
  {
   "cell_type": "code",
   "execution_count": null,
   "metadata": {},
   "outputs": [],
   "source": [
    "for name, param in model.named_parameters():\n",
    "    print(name, param)"
   ]
  },
  {
   "cell_type": "code",
   "execution_count": null,
   "metadata": {},
   "outputs": [],
   "source": [
    "#Evaluating for future and past\n",
    "model.eval()\n",
    "with torch.no_grad():\n",
    "    X_test_pred = model(T_test_tensor)\n",
    "X_test_pred = X_test_pred.numpy()\n",
    "\n",
    "# Plot actual vs predicted values\n",
    "plt.plot(T_test, X_test, 'b.', label='Actual')\n",
    "plt.plot(T_test, X_test_pred,'r.', label='Predicted')\n",
    "plt.xlabel('Time (t)')\n",
    "plt.ylabel('Position (x)')\n",
    "plt.legend()\n",
    "plt.title('Actual vs Predicted Values on Testing Data')\n",
    "plt.legend()\n",
    "plt.show()"
   ]
  },
  {
   "cell_type": "code",
   "execution_count": null,
   "metadata": {},
   "outputs": [],
   "source": [
    "model.eval()\n",
    "with torch.no_grad():\n",
    "    X_train_pred = model(T_train_tensor)\n",
    "X_train_pred = X_train_pred.numpy()\n",
    "\n",
    "# Plot actual vs predicted values\n",
    "plt.plot(T_train, X_train, 'b.', label='Actual')\n",
    "plt.plot(T_train, X_train_pred,'r.', label='Calculated')\n",
    "plt.xlabel('Time (t)')\n",
    "plt.ylabel('Position (x)')\n",
    "plt.legend()\n",
    "plt.title('Actual vs Calculated Values on Training Data')\n",
    "plt.legend()\n",
    "plt.show()"
   ]
  },
  {
   "cell_type": "code",
   "execution_count": null,
   "metadata": {},
   "outputs": [],
   "source": []
  }
 ],
 "metadata": {
  "kernelspec": {
   "display_name": "Python 3",
   "language": "python",
   "name": "python3"
  },
  "language_info": {
   "codemirror_mode": {
    "name": "ipython",
    "version": 3
   },
   "file_extension": ".py",
   "mimetype": "text/x-python",
   "name": "python",
   "nbconvert_exporter": "python",
   "pygments_lexer": "ipython3",
   "version": "3.11.9"
  }
 },
 "nbformat": 4,
 "nbformat_minor": 2
}
